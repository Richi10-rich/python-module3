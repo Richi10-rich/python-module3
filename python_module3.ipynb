{
  "nbformat": 4,
  "nbformat_minor": 0,
  "metadata": {
    "colab": {
      "provenance": []
    },
    "kernelspec": {
      "name": "python3",
      "display_name": "Python 3"
    },
    "language_info": {
      "name": "python"
    }
  },
  "cells": [
    {
      "cell_type": "markdown",
      "source": [
        "# MODULE **3**"
      ],
      "metadata": {
        "id": "gSH2SnhUN855"
      }
    },
    {
      "cell_type": "markdown",
      "source": [
        "1. What are data structures, and why are they important?\n",
        "  - Data structures are a way to organize data so that it can be used by a computer program or system. They are a fundamental part of computer science and are important because they allow users to efficiently store, organize, and work with data.\n",
        "\n",
        "2.Explain the difference between mutable and immutable data types with examples?\n",
        "  - The main difference between mutable and immutable data types is that mutable data types can be changed after they are created, while immutable data types cannot:\n",
        "  Example - In Python, mutable types (like lists, dictionaries) can be changed after creation, while immutable types (like strings, tuples) cannot be altered once defined, ensuring data integrity and safety.\n",
        "\n",
        "3. What are the main differences between lists and tuples in Python?\n",
        "   - Lists and tuples are both fundamental data structures in Python used to store collections of items. However, they have key differences:\n",
        "Mutability:\n",
        "* Lists: Mutable - You can modify their elements after creation (add, remove, change).\n",
        "* Tuples: Immutable - You cannot modify their elements once created.\n",
        "\n",
        "4. Describe how dictionaries store data ?\n",
        "   - Dictionaries are used to store data values in key:value pairs. A dictionary is a collection which is ordered*, changeable and do not allow duplicates. As of Python version 3.7, dictionaries are ordered. In Python 3.6 and earlier, dictionaries are unordered.\n",
        "\n",
        "5. Why might you use a set instead of a list in Python ?\n",
        "   - Because sets cannot have multiple occurrences of the same element, it makes sets highly useful to efficiently remove duplicate values from a list or tuple and to perform common math operations like unions and intersections.\n",
        "\n",
        "6. What is a string in Python, and how is it different from a list ?\n",
        "   - A string is a sequence of characters between single or double quotes. A list is a sequence of items, where each item could be anything (an integer, a float, a string, etc).\n",
        "\n",
        "7. How do tuples ensure data integrity in Python?\n",
        "   - Tuples ensure data integrity in Python through their key characteristic: immutability. This means that once a tuple is created, its elements cannot be modified, added, or removed.\n",
        "\n",
        "8. What is a hash table, and how does it relate to dictionaries in Python?\n",
        "   - A hash table is a data structure that stores key-value pairs, allowing for efficient retrieval of values based on their keys. In Python, dictionaries are implemented using hash tables.\n",
        "\n",
        "9. Can lists contain different data types in Python ?\n",
        "   - Yes, lists in Python can contain different data types. This is one of the key features that makes Python lists so versatile.\n",
        "\n",
        "10. Explain why strings are immutable in Python ?\n",
        "  - String is immutable in PYTHON to ensure security, thread safety, and simplify memory management by preventing its state from being changed once created.\n",
        "\n",
        "11. What advantages do dictionaries offer over lists for certain tasks?\n",
        "   - Dictionaries offer several advantages over lists for certain tasks, including:\n",
        "Fast lookups\n",
        "Dictionaries use a hash table to store key-value pairs, which allows for very\n",
        " Fast lookups. This makes dictionaries ideal for tasks that require frequent lookups or searches.\n",
        "* Easy to read -\n",
        "Dictionaries make code much easier to read if you need to generate key:value pairs.\n",
        "* Memory efficient -\n",
        "Dictionaries only store the key-value pairs you need, so they can be used to store large amounts of data without taking up too much memory.\n",
        "* Flexible -\n",
        "Dictionaries can store any type of data as both the key and the value.\n",
        "* Easy to modify -\n",
        "Dictionaries are mutable and can be modified in place by adding, removing, or updating key-value pairs.\n",
        "\n",
        "12. Describe a scenario where using a tuple would be preferable over a list?\n",
        "  - Tuples are faster than lists. Tuples make the code safe from any accidental modification. If a data is needed in a program which is not supposed to be changed, then it is better to put it in 'tuples' than in 'list'.\n",
        "\n",
        "13. How do sets handle duplicate values in Python ?\n",
        "  - Sets in Python automatically handle duplicate values by ignoring them. When you create a set or add elements to it, Python ensures that only unique values are stored.\n",
        "Here's an example:\n",
        "my_set = {1, 2, 2, 3, 4, 4, 4}\n",
        "print(my_set)\n",
        "Output:  {1,2,3,4}\n",
        "14. How does the “in” keyword work differently for lists and dictionaries?\n",
        "   - The (in) operator for lists just checks equality with every element of the list.\n",
        "   The (in) operator for dictionaries ( dict ) checks for the presence of a key. Use the values() and items() methods to test for the presence of values or key-value pairs.\n",
        "\n",
        "15. Can you modify the elements of a tuple? Explain why or why not?\n",
        "   - No, you cannot modify the elements of a tuple in Python because tuples are \"immutable,\" meaning once created, their contents cannot be changed; if you try to alter an element, you will receive a TypeError error.\n",
        "\n",
        "16. What is a nested dictionary, and give an example of its use case?\n",
        "   - A nested dictionary is a collection of dictionaries within a single dictionary. It's a powerful tool for storing and organizing data with multiple layers. Some common use cases for nested dictionaries include:\n",
        "* Employee records: Organize employees by department, with each employee's details in a nested dictionary.\n",
        "* Inventory systems: Track product categories, subcategories, and individual product details.\n",
        "* JSON data: Nested dictionaries naturally map to the structure of JSON data, making them essential for working with APIs and web services.\n",
        "myfamily = { \"child1\" : { \"name\" : \"Emil\", \"year\" : 2004. }, \"child2\" : { \"name\" : \"Tobias\", \"year\" : 2007. }, \"child3\" : { \"name\" : \"Linus\", \"year\" : 2011. } }\n",
        "\n",
        "17. Describe the time complexity of accessing elements in a dictionary?\n",
        "   - The time complexity of accessing an element in a Python dictionary is O(1) on average. This means that the time it takes to retrieve an element is constant and doesn't depend on the dictionary's size.\n",
        "However, in the worst case, the time complexity can be O(n) due to hash collisions. Hash collisions occur when multiple keys result in the same hash value. To handle these collisions, Python creates a linked list for the colliding entries, which can slow down the lookup process.\n",
        "\n",
        "18. In what situations are lists preferred over dictionaries?\n",
        "   - A list is an ordered collection of items, whereas a dictionary is an unordered data collection in a key: value pair. Elements from the list can be accessed using the index, while the elements of the dictionary can be accessed using keys.\n",
        "\n",
        "19. Why are dictionaries considered unordered, and how does that affect data retrieval ?\n",
        "   - Dictionary is a data structure which is a important value structure, optimized for fast storage and recovery based on key. In python, dictionaries are un-ordered because Python dictionaries are not intended to be in order, as simple as that.\n",
        "  - A dictionary can improve data retrieval by allowing for fast and efficient lookups and indexing of large datasets. For example, a dictionary can index a dataset based on key fields, allowing users to quickly search and retrieve data based on those keys.\n",
        "\n",
        "20. Explain the difference between a list and a dictionary in terms of data retrieval?\n",
        "  - A list is an ordered collection of items, whereas a dictionary is an unordered data collection in a key: value pair. Elements from the list can be accessed using the index, while the elements of the dictionary can be accessed using keys.\n",
        "\n"
      ],
      "metadata": {
        "id": "yasWfcdXOUFY"
      }
    },
    {
      "cell_type": "markdown",
      "source": [
        "# PRACTICAL QUESTIONS"
      ],
      "metadata": {
        "id": "WMOR5if4xa8h"
      }
    },
    {
      "cell_type": "code",
      "source": [
        "# 1. Write a code to create a string with your name and print it?\n",
        "Name = \"Richi\"\n",
        "print(Name)\n",
        "type(Name)"
      ],
      "metadata": {
        "colab": {
          "base_uri": "https://localhost:8080/"
        },
        "id": "umQ8FWGnDhrV",
        "outputId": "255fb06c-2da6-400d-d7c2-400be3c9fc29"
      },
      "execution_count": 2,
      "outputs": [
        {
          "output_type": "stream",
          "name": "stdout",
          "text": [
            "Richi\n"
          ]
        },
        {
          "output_type": "execute_result",
          "data": {
            "text/plain": [
              "str"
            ]
          },
          "metadata": {},
          "execution_count": 2
        }
      ]
    },
    {
      "cell_type": "code",
      "source": [
        "# 2. Write a code to find the length of the string \"Hello World\"\n",
        "d = \"Hello World\"\n",
        "print(d)\n",
        "len(d)"
      ],
      "metadata": {
        "colab": {
          "base_uri": "https://localhost:8080/"
        },
        "id": "94hG-nBnE754",
        "outputId": "cc41e006-f314-4f56-ac50-60019ddd7f6f"
      },
      "execution_count": 5,
      "outputs": [
        {
          "output_type": "stream",
          "name": "stdout",
          "text": [
            "Hello World\n"
          ]
        },
        {
          "output_type": "execute_result",
          "data": {
            "text/plain": [
              "11"
            ]
          },
          "metadata": {},
          "execution_count": 5
        }
      ]
    },
    {
      "cell_type": "code",
      "source": [
        "# 3. Write a code to slice the first 3 characters from the string \"Python Programming\"?\n",
        "string = \"Python Programming\"\n",
        "string[:3]"
      ],
      "metadata": {
        "colab": {
          "base_uri": "https://localhost:8080/",
          "height": 36
        },
        "id": "i-LIwJHCUS5B",
        "outputId": "b78b8db6-a2ae-459f-aa11-ef45037ddd3a"
      },
      "execution_count": 9,
      "outputs": [
        {
          "output_type": "execute_result",
          "data": {
            "text/plain": [
              "'Pyt'"
            ],
            "application/vnd.google.colaboratory.intrinsic+json": {
              "type": "string"
            }
          },
          "metadata": {},
          "execution_count": 9
        }
      ]
    },
    {
      "cell_type": "code",
      "source": [
        "# 4. Write a code to convert the string \"hello\" to uppercase?\n",
        "text = 'hello'\n",
        "text.upper()"
      ],
      "metadata": {
        "colab": {
          "base_uri": "https://localhost:8080/",
          "height": 36
        },
        "id": "Xb_iOQ81XaFj",
        "outputId": "8cd6f562-a660-4a5d-b497-bc1bf8910540"
      },
      "execution_count": 22,
      "outputs": [
        {
          "output_type": "execute_result",
          "data": {
            "text/plain": [
              "'HELLO'"
            ],
            "application/vnd.google.colaboratory.intrinsic+json": {
              "type": "string"
            }
          },
          "metadata": {},
          "execution_count": 22
        }
      ]
    },
    {
      "cell_type": "code",
      "source": [
        "# 5. Write a code to replace the word \"apple\" with \"orange\" in the string \"I like apple\"?\n",
        "sen = \"I like apple\"\n",
        "sen.replace(\"apple\",\"orange\")\n"
      ],
      "metadata": {
        "colab": {
          "base_uri": "https://localhost:8080/",
          "height": 36
        },
        "id": "JlXqg5kiiDuu",
        "outputId": "805613ca-e650-4f70-ce82-9405e7978458"
      },
      "execution_count": 25,
      "outputs": [
        {
          "output_type": "execute_result",
          "data": {
            "text/plain": [
              "'I like orange'"
            ],
            "application/vnd.google.colaboratory.intrinsic+json": {
              "type": "string"
            }
          },
          "metadata": {},
          "execution_count": 25
        }
      ]
    },
    {
      "cell_type": "code",
      "source": [
        "# 6. Write a code to create a list with numbers 1 to 5 and print it?\n",
        "num = [1,2,3,4,5]\n",
        "print(num)"
      ],
      "metadata": {
        "colab": {
          "base_uri": "https://localhost:8080/"
        },
        "id": "8T3y9AFaleXP",
        "outputId": "0519e0d9-49c9-41b0-cb70-1cd716e3fb46"
      },
      "execution_count": 29,
      "outputs": [
        {
          "output_type": "stream",
          "name": "stdout",
          "text": [
            "[1, 2, 3, 4, 5]\n"
          ]
        }
      ]
    },
    {
      "cell_type": "code",
      "source": [
        "# 7. Write a code to append the number 10 to the list [1, 2, 3, 4]?\n",
        "number = [1,2,3,4]\n",
        "number.append(10)\n",
        "number"
      ],
      "metadata": {
        "colab": {
          "base_uri": "https://localhost:8080/"
        },
        "id": "HbWf6fjbntt6",
        "outputId": "b4a31419-d1e6-4e97-8211-99afed5d030d"
      },
      "execution_count": 35,
      "outputs": [
        {
          "output_type": "execute_result",
          "data": {
            "text/plain": [
              "[1, 2, 3, 4, 10]"
            ]
          },
          "metadata": {},
          "execution_count": 35
        }
      ]
    },
    {
      "cell_type": "code",
      "source": [
        "# 8. Write a code to remove the number 3 from the list [1, 2, 3, 4, 5]?\n",
        "num.remove(3)\n",
        "num"
      ],
      "metadata": {
        "colab": {
          "base_uri": "https://localhost:8080/"
        },
        "id": "8kg4eqJwp8lc",
        "outputId": "0e4e0dc3-b455-4911-ad04-45918d21783d"
      },
      "execution_count": 37,
      "outputs": [
        {
          "output_type": "execute_result",
          "data": {
            "text/plain": [
              "[1, 2, 4, 5]"
            ]
          },
          "metadata": {},
          "execution_count": 37
        }
      ]
    },
    {
      "cell_type": "code",
      "source": [
        "# 9. Write a code to access the second element in the list ['a', 'b', 'c', 'd']?\n",
        "lis = ['a', 'b', 'c', 'd']\n",
        "lis[1]"
      ],
      "metadata": {
        "colab": {
          "base_uri": "https://localhost:8080/",
          "height": 36
        },
        "id": "IAp5eu1hqe4r",
        "outputId": "96e7d1ce-66d3-4a9a-a8f7-c0ad2ae84575"
      },
      "execution_count": 39,
      "outputs": [
        {
          "output_type": "execute_result",
          "data": {
            "text/plain": [
              "'b'"
            ],
            "application/vnd.google.colaboratory.intrinsic+json": {
              "type": "string"
            }
          },
          "metadata": {},
          "execution_count": 39
        }
      ]
    },
    {
      "cell_type": "code",
      "source": [
        "# 10. Write a code to reverse the list [10, 20, 30, 40, 50]?\n",
        "a = [10, 20, 30, 40, 50]\n",
        "a[::-1]"
      ],
      "metadata": {
        "colab": {
          "base_uri": "https://localhost:8080/"
        },
        "id": "Db3EA5c_rWDD",
        "outputId": "5deba7b4-2359-4219-8463-243cb37680a0"
      },
      "execution_count": 40,
      "outputs": [
        {
          "output_type": "execute_result",
          "data": {
            "text/plain": [
              "[50, 40, 30, 20, 10]"
            ]
          },
          "metadata": {},
          "execution_count": 40
        }
      ]
    },
    {
      "cell_type": "code",
      "source": [
        "# 11. Write a code to create a tuple with the elements 10, 20, 30 and print it.\n",
        "r = (10,20,30)\n",
        "print(r)\n",
        "type(r)"
      ],
      "metadata": {
        "colab": {
          "base_uri": "https://localhost:8080/"
        },
        "id": "90rbBdHQ00kO",
        "outputId": "04d4adb7-2a6d-4c87-ca00-51e766fb6937"
      },
      "execution_count": 64,
      "outputs": [
        {
          "output_type": "stream",
          "name": "stdout",
          "text": [
            "(10, 20, 30)\n"
          ]
        },
        {
          "output_type": "execute_result",
          "data": {
            "text/plain": [
              "tuple"
            ]
          },
          "metadata": {},
          "execution_count": 64
        }
      ]
    },
    {
      "cell_type": "code",
      "source": [
        "# 12. Write a code to access the first element of the tuple ('apple', 'banana', 'cherry').\n",
        "d = ('apple', 'banana', 'cherry')\n",
        "d[0]"
      ],
      "metadata": {
        "colab": {
          "base_uri": "https://localhost:8080/",
          "height": 36
        },
        "id": "okMKQ_GHs_Qc",
        "outputId": "bc1e7e70-bcd3-428c-c195-a01dbcbffd44"
      },
      "execution_count": 44,
      "outputs": [
        {
          "output_type": "execute_result",
          "data": {
            "text/plain": [
              "'apple'"
            ],
            "application/vnd.google.colaboratory.intrinsic+json": {
              "type": "string"
            }
          },
          "metadata": {},
          "execution_count": 44
        }
      ]
    },
    {
      "cell_type": "code",
      "source": [
        "# 13. Write a code to count how many times the number 2 appears in the tuple (1, 2, 3, 2, 4, 2).\n",
        "n = (1, 2, 3, 2, 4, 2)\n",
        "n.count(2)"
      ],
      "metadata": {
        "colab": {
          "base_uri": "https://localhost:8080/"
        },
        "id": "FBU3UtDGuDhK",
        "outputId": "3df37ab7-5c51-45e6-d0a1-536378050309"
      },
      "execution_count": 45,
      "outputs": [
        {
          "output_type": "execute_result",
          "data": {
            "text/plain": [
              "3"
            ]
          },
          "metadata": {},
          "execution_count": 45
        }
      ]
    },
    {
      "cell_type": "code",
      "source": [
        "# 14. Write a code to find the index of the element \"cat\" in the tuple ('dog', 'cat', 'rabbit').\n",
        "c = ('dog', 'cat', 'rabbit')\n",
        "c.index(\"cat\")"
      ],
      "metadata": {
        "colab": {
          "base_uri": "https://localhost:8080/"
        },
        "id": "ogdtNtyKux8A",
        "outputId": "4745c3af-3ca9-405e-c789-6697efce689e"
      },
      "execution_count": 47,
      "outputs": [
        {
          "output_type": "execute_result",
          "data": {
            "text/plain": [
              "1"
            ]
          },
          "metadata": {},
          "execution_count": 47
        }
      ]
    },
    {
      "cell_type": "code",
      "source": [
        "# 15. Write a code to check if the element \"banana\" is in the tuple ('apple', 'orange', 'banana').\n",
        "f =  ('apple', 'orange', 'banana')\n",
        "'banana' in f"
      ],
      "metadata": {
        "colab": {
          "base_uri": "https://localhost:8080/"
        },
        "id": "DqmDdzHYvrQW",
        "outputId": "925041c4-972b-48c5-f924-96ec45ed42e8"
      },
      "execution_count": 49,
      "outputs": [
        {
          "output_type": "execute_result",
          "data": {
            "text/plain": [
              "True"
            ]
          },
          "metadata": {},
          "execution_count": 49
        }
      ]
    },
    {
      "cell_type": "code",
      "source": [
        "# 16. write a code to create a set with the elements 1, 2, 3, 4, 5 and print it.\n",
        "s = {1,2,3,4,5}\n",
        "print(s)\n",
        "type(s)"
      ],
      "metadata": {
        "colab": {
          "base_uri": "https://localhost:8080/"
        },
        "id": "SywA2OLTypbG",
        "outputId": "250d76d3-d0ae-47a2-96f2-7837370e1470"
      },
      "execution_count": 59,
      "outputs": [
        {
          "output_type": "stream",
          "name": "stdout",
          "text": [
            "{1, 2, 3, 4, 5}\n"
          ]
        },
        {
          "output_type": "execute_result",
          "data": {
            "text/plain": [
              "set"
            ]
          },
          "metadata": {},
          "execution_count": 59
        }
      ]
    },
    {
      "cell_type": "code",
      "source": [
        "# 17. Write a code to add the element 6 to the set {1, 2, 3, 4}.\n",
        "s1 = {1,2,3,4}\n",
        "s1.add(6)\n",
        "s1"
      ],
      "metadata": {
        "colab": {
          "base_uri": "https://localhost:8080/"
        },
        "id": "GdR0oCYIzyOy",
        "outputId": "f9201ae8-92fc-4062-9964-ae561529e5ba"
      },
      "execution_count": 61,
      "outputs": [
        {
          "output_type": "execute_result",
          "data": {
            "text/plain": [
              "{1, 2, 3, 4, 6}"
            ]
          },
          "metadata": {},
          "execution_count": 61
        }
      ]
    },
    {
      "cell_type": "code",
      "source": [
        "# 18. Write a code to create a tuple with the elements 10, 20, 30 and print it.\n",
        "r = (10,20,30)\n",
        "print(r)\n",
        "type(r)"
      ],
      "metadata": {
        "colab": {
          "base_uri": "https://localhost:8080/"
        },
        "id": "XkQ4XE810T4F",
        "outputId": "3c4351cd-b2a3-4336-dc55-2453836d6e70"
      },
      "execution_count": 63,
      "outputs": [
        {
          "output_type": "stream",
          "name": "stdout",
          "text": [
            "(10, 20, 30)\n"
          ]
        },
        {
          "output_type": "execute_result",
          "data": {
            "text/plain": [
              "tuple"
            ]
          },
          "metadata": {},
          "execution_count": 63
        }
      ]
    },
    {
      "cell_type": "code",
      "source": [
        "# 19. Write a code to access the first element of the tuple ('apple', 'banana', 'cherry').\n",
        "d = ('apple', 'banana', 'cherry')\n",
        "d[0]"
      ],
      "metadata": {
        "colab": {
          "base_uri": "https://localhost:8080/",
          "height": 36
        },
        "id": "CQ4tSbNT1XtV",
        "outputId": "5e1668d4-2835-4cba-992d-a595460a52a6"
      },
      "execution_count": 65,
      "outputs": [
        {
          "output_type": "execute_result",
          "data": {
            "text/plain": [
              "'apple'"
            ],
            "application/vnd.google.colaboratory.intrinsic+json": {
              "type": "string"
            }
          },
          "metadata": {},
          "execution_count": 65
        }
      ]
    },
    {
      "cell_type": "code",
      "source": [
        "# 20. Write a code to count how many times the number 2 appears in the tuple (1, 2, 3, 2, 4, 2).\n",
        "n = (1, 2, 3, 2, 4, 2)\n",
        "n.count(2)"
      ],
      "metadata": {
        "colab": {
          "base_uri": "https://localhost:8080/"
        },
        "id": "XWGAsrsl1qPU",
        "outputId": "7d797a46-232f-4bd6-e357-a2ce436328f1"
      },
      "execution_count": 66,
      "outputs": [
        {
          "output_type": "execute_result",
          "data": {
            "text/plain": [
              "3"
            ]
          },
          "metadata": {},
          "execution_count": 66
        }
      ]
    },
    {
      "cell_type": "code",
      "source": [
        "# 21. Write a code to find the index of the element \"cat\" in the tuple ('dog', 'cat', 'rabbit').\n",
        "c = ('dog', 'cat', 'rabbit')\n",
        "c.index(\"cat\")"
      ],
      "metadata": {
        "colab": {
          "base_uri": "https://localhost:8080/"
        },
        "id": "YgRdeBs713dD",
        "outputId": "790a142f-c9e7-46aa-d073-7fd9e6b3d71d"
      },
      "execution_count": 67,
      "outputs": [
        {
          "output_type": "execute_result",
          "data": {
            "text/plain": [
              "1"
            ]
          },
          "metadata": {},
          "execution_count": 67
        }
      ]
    },
    {
      "cell_type": "code",
      "source": [
        "# 22. Write a code to check if the element \"banana\" is in the tuple ('apple', 'orange', 'banana').\n",
        "f =  ('apple', 'orange', 'banana')\n",
        "'banana' in f"
      ],
      "metadata": {
        "colab": {
          "base_uri": "https://localhost:8080/"
        },
        "id": "tA9oXtQn2CjV",
        "outputId": "78629fae-f006-4704-9d7c-245e82f6c343"
      },
      "execution_count": 68,
      "outputs": [
        {
          "output_type": "execute_result",
          "data": {
            "text/plain": [
              "True"
            ]
          },
          "metadata": {},
          "execution_count": 68
        }
      ]
    },
    {
      "cell_type": "code",
      "source": [
        "# 23. write a code to create a set with the elements 1, 2, 3, 4, 5 and print it.\n",
        "s = {1,2,3,4,5}\n",
        "print(s)\n",
        "type(s)"
      ],
      "metadata": {
        "colab": {
          "base_uri": "https://localhost:8080/"
        },
        "id": "_rZGUbbY2Y5v",
        "outputId": "5cdf7d76-6621-412a-970c-4fb1024bc362"
      },
      "execution_count": 69,
      "outputs": [
        {
          "output_type": "stream",
          "name": "stdout",
          "text": [
            "{1, 2, 3, 4, 5}\n"
          ]
        },
        {
          "output_type": "execute_result",
          "data": {
            "text/plain": [
              "set"
            ]
          },
          "metadata": {},
          "execution_count": 69
        }
      ]
    },
    {
      "cell_type": "code",
      "source": [
        "# 24. Write a code to add the element 6 to the set {1, 2, 3, 4}.\n",
        "s1 = {1,2,3,4}\n",
        "s1.add(6)\n",
        "s1"
      ],
      "metadata": {
        "colab": {
          "base_uri": "https://localhost:8080/"
        },
        "id": "44DNH6gR2vIF",
        "outputId": "24ef6b98-4285-4f44-bc88-8ae53e92920c"
      },
      "execution_count": 70,
      "outputs": [
        {
          "output_type": "execute_result",
          "data": {
            "text/plain": [
              "{1, 2, 3, 4, 6}"
            ]
          },
          "metadata": {},
          "execution_count": 70
        }
      ]
    }
  ]
}